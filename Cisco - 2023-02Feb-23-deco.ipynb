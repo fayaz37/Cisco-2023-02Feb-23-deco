{
 "cells": [
  {
   "cell_type": "markdown",
   "metadata": {},
   "source": [
    "# Agenda\n",
    "\n",
    "1. What are decorators?\n",
    "2. Decorating functions\n",
    "3. Enclosing functions (and taking advantage of them with decorators)"
   ]
  },
  {
   "cell_type": "markdown",
   "metadata": {},
   "source": [
    "Decorators in Python ≠ Decorators in design patterns"
   ]
  },
  {
   "cell_type": "markdown",
   "metadata": {},
   "source": [
    "# Things to remember about functions in Python\n",
    "\n",
    "1. When we use `def` to define a function, we are actually doing two things:\n",
    "    - Creating a function object\n",
    "    - Assigning that function object to a variable\n",
    "2. Inside of a function, assigning to a variable creates a local variable\n",
    "3. Functions are objects, which we can return (like any other object) from a function."
   ]
  },
  {
   "cell_type": "code",
   "execution_count": 1,
   "metadata": {},
   "outputs": [
    {
     "name": "stdout",
     "output_type": "stream",
     "text": [
      "A!\n",
      "\n",
      "B!\n",
      "\n"
     ]
    }
   ],
   "source": [
    "# let's say that we have two functions\n",
    "\n",
    "def a():\n",
    "    return f'A!\\n'\n",
    "\n",
    "def b():\n",
    "    return f'B!\\n'\n",
    "\n",
    "print(a())\n",
    "print(b())"
   ]
  },
  {
   "cell_type": "code",
   "execution_count": 2,
   "metadata": {},
   "outputs": [
    {
     "name": "stdout",
     "output_type": "stream",
     "text": [
      "----------\n",
      "A!\n",
      "----------\n",
      "\n",
      "----------\n",
      "B!\n",
      "----------\n",
      "\n"
     ]
    }
   ],
   "source": [
    "# our company has now decided, as a matter of policy, that anything we print\n",
    "# in our programs must have dashed lines above and below it\n",
    "\n",
    "lines = '-' * 10 + '\\n'\n",
    "\n",
    "def a():\n",
    "    return f'{lines}A!\\n{lines}'\n",
    "\n",
    "def b():\n",
    "    return f'{lines}B!\\n{lines}'\n",
    "\n",
    "print(a())\n",
    "print(b())"
   ]
  },
  {
   "cell_type": "code",
   "execution_count": 3,
   "metadata": {},
   "outputs": [
    {
     "name": "stdout",
     "output_type": "stream",
     "text": [
      "----------\n",
      "A!\n",
      "----------\n",
      "\n",
      "----------\n",
      "B!\n",
      "----------\n",
      "\n"
     ]
    }
   ],
   "source": [
    "# this violates the DRY rule -- don't repeat yourself\n",
    "\n",
    "# how can we DRY up our code, and not repeat ourselves?\n",
    "\n",
    "lines = '-' * 10 + '\\n'\n",
    "\n",
    "# this function will take another function as an argument, and put its output in lines\n",
    "def with_lines(func):    \n",
    "    return f'{lines}{func()}{lines}'\n",
    "\n",
    "\n",
    "def a():\n",
    "    return f'A!\\n'\n",
    "\n",
    "def b():\n",
    "    return f'B!\\n'\n",
    "\n",
    "print(with_lines(a))  # I'm not running a or b directly.. with_lines will run them for me\n",
    "print(with_lines(b))"
   ]
  },
  {
   "cell_type": "code",
   "execution_count": 4,
   "metadata": {},
   "outputs": [
    {
     "name": "stdout",
     "output_type": "stream",
     "text": [
      "----------\n",
      "A!\n",
      "----------\n",
      "\n",
      "----------\n",
      "B!\n",
      "----------\n",
      "\n"
     ]
    }
   ],
   "source": [
    "# the boss is unhappy that we changed the API\n",
    "# we need to have lines... but we need to have them without changing how we call a and b\n",
    "\n",
    "# we're going to solve this problem by having with_lines return a *function*, \n",
    "# rather than a string\n",
    "\n",
    "lines = '-' * 10 + '\\n'\n",
    "\n",
    "def with_lines(func):    \n",
    "    def wrapper():    # define an inner function\n",
    "        return f'{lines}{func()}{lines}'\n",
    "    return wrapper    # return the inner function\n",
    "\n",
    "def a():\n",
    "    return f'A!\\n'\n",
    "a_with_lines = with_lines(a)\n",
    "\n",
    "\n",
    "def b():\n",
    "    return f'B!\\n'\n",
    "b_with_lines = with_lines(b)\n",
    "\n",
    "print(a_with_lines())\n",
    "print(b_with_lines())"
   ]
  },
  {
   "cell_type": "code",
   "execution_count": 5,
   "metadata": {},
   "outputs": [
    {
     "name": "stdout",
     "output_type": "stream",
     "text": [
      "----------\n",
      "A!\n",
      "----------\n",
      "\n",
      "----------\n",
      "B!\n",
      "----------\n",
      "\n"
     ]
    }
   ],
   "source": [
    "# let's now make sure that we have the original API working\n",
    "\n",
    "lines = '-' * 10 + '\\n'\n",
    "\n",
    "def with_lines(func): # func will hold onto our reference to our original function   \n",
    "    def wrapper():    # define an inner function\n",
    "        return f'{lines}{func()}{lines}'    # we refer to func in the inner function... so it sticks around\n",
    "    return wrapper    # return the inner function\n",
    "\n",
    "def a():\n",
    "    return f'A!\\n'\n",
    "a = with_lines(a)  # we're redefining a so that it's now the result of calling with_lines(a)\n",
    "\n",
    "\n",
    "def b():\n",
    "    return f'B!\\n'\n",
    "b = with_lines(b)\n",
    "\n",
    "print(a())\n",
    "print(b())"
   ]
  },
  {
   "cell_type": "code",
   "execution_count": 6,
   "metadata": {},
   "outputs": [
    {
     "name": "stdout",
     "output_type": "stream",
     "text": [
      "----------\n",
      "A!\n",
      "----------\n",
      "\n",
      "----------\n",
      "B!\n",
      "----------\n",
      "\n"
     ]
    }
   ],
   "source": [
    "# let's use Python decorator syntax!\n",
    "\n",
    "lines = '-' * 10 + '\\n'\n",
    "\n",
    "def with_lines(func):\n",
    "    def wrapper():   \n",
    "        return f'{lines}{func()}{lines}'    \n",
    "    return wrapper  \n",
    "\n",
    "@with_lines    # this is precisely the same as line 13!\n",
    "def a():\n",
    "    return f'A!\\n'\n",
    "# a = with_lines(a) \n",
    "\n",
    "\n",
    "@with_lines   # this is precisely the same as line 19\n",
    "def b():\n",
    "    return f'B!\\n'\n",
    "# b = with_lines(b)\n",
    "\n",
    "print(a())\n",
    "print(b())"
   ]
  },
  {
   "cell_type": "markdown",
   "metadata": {},
   "source": [
    "# This is a decorator in Python!\n",
    "\n",
    "- It's a function\n",
    "- That function takes an argument, another function\n",
    "- It also returns a function (traditionally called `wrapper`)\n",
    "- The returned function is then assigned back to our original function's name\n",
    "\n",
    "### We have three functions here:\n",
    "\n",
    "- Originally defined one (`a` or `b`)\n",
    "- Decorator function (`with_lines`)\n",
    "- Inner function, which replaces our original functions (traditionally called `wrapper`)"
   ]
  },
  {
   "cell_type": "markdown",
   "metadata": {},
   "source": [
    "# Why would we do this?\n",
    "\n",
    "This means that we can \"hijack\" a function at two points in time:\n",
    "\n",
    "- When it is defined\n",
    "- When it is run\n",
    "\n",
    "We can do all sorts of things to it:\n",
    "- Replace the function with another one at definition time\n",
    "- Filter the arguments\n",
    "- Filter the return values\n",
    "- Cache values across different calls\n",
    "- Put in logging/timing information\n",
    "- Add security code\n",
    "\n",
    "Technically speaking a decorator is:\n",
    "\n",
    "- A callable (function or class)\n",
    "- That takes a callable (function or class) as an argument\n",
    "- And returns a callable (function or class)"
   ]
  },
  {
   "cell_type": "code",
   "execution_count": 8,
   "metadata": {
    "scrolled": true
   },
   "outputs": [
    {
     "name": "stdout",
     "output_type": "stream",
     "text": [
      "----------\n",
      "A!\n",
      "----------\n",
      "\n",
      "----------\n",
      "B!\n",
      "----------\n",
      "\n"
     ]
    },
    {
     "ename": "TypeError",
     "evalue": "with_lines.<locals>.wrapper() takes 0 positional arguments but 2 were given",
     "output_type": "error",
     "traceback": [
      "\u001b[0;31m---------------------------------------------------------------------------\u001b[0m",
      "\u001b[0;31mTypeError\u001b[0m                                 Traceback (most recent call last)",
      "Cell \u001b[0;32mIn [8], line 27\u001b[0m\n\u001b[1;32m     25\u001b[0m \u001b[38;5;28mprint\u001b[39m(a())\n\u001b[1;32m     26\u001b[0m \u001b[38;5;28mprint\u001b[39m(b())\n\u001b[0;32m---> 27\u001b[0m \u001b[38;5;28mprint\u001b[39m(\u001b[43mmyadd\u001b[49m\u001b[43m(\u001b[49m\u001b[38;5;241;43m10\u001b[39;49m\u001b[43m,\u001b[49m\u001b[43m \u001b[49m\u001b[38;5;241;43m3\u001b[39;49m\u001b[43m)\u001b[49m)\n",
      "\u001b[0;31mTypeError\u001b[0m: with_lines.<locals>.wrapper() takes 0 positional arguments but 2 were given"
     ]
    }
   ],
   "source": [
    "# what if our function takes arguments?\n",
    "\n",
    "lines = '-' * 10 + '\\n'\n",
    "\n",
    "def with_lines(func):\n",
    "    def wrapper():   \n",
    "        return f'{lines}{func()}{lines}'    \n",
    "    return wrapper  \n",
    "\n",
    "@with_lines    # this is precisely the same as line 13!\n",
    "def a():\n",
    "    return f'A!\\n'\n",
    "# a = with_lines(a) \n",
    "\n",
    "\n",
    "@with_lines   # this is precisely the same as line 19\n",
    "def b():\n",
    "    return f'B!\\n'\n",
    "# b = with_lines(b)\n",
    "\n",
    "@with_lines\n",
    "def myadd(first, second):\n",
    "    return f'{first} + {second} = {first+second}\\n'\n",
    "\n",
    "print(a())\n",
    "print(b())\n",
    "print(myadd(10, 3))   # when I call myadd here, I'm not really calling our original myadd, but wrapper"
   ]
  },
  {
   "cell_type": "code",
   "execution_count": 10,
   "metadata": {},
   "outputs": [
    {
     "name": "stdout",
     "output_type": "stream",
     "text": [
      "----------\n",
      "A!\n",
      "----------\n",
      "\n",
      "----------\n",
      "B!\n",
      "----------\n",
      "\n",
      "----------\n",
      "10 + 3 = 13\n",
      "----------\n",
      "\n"
     ]
    }
   ],
   "source": [
    "# what if our function takes arguments?\n",
    "\n",
    "lines = '-' * 10 + '\\n'\n",
    "\n",
    "def with_lines(func):\n",
    "    def wrapper(*args):      # take any number of positional arguments\n",
    "        return f'{lines}{func(*args)}{lines}'      # turn our tuple args into positional arguments\n",
    "    return wrapper  \n",
    "\n",
    "@with_lines    # this is precisely the same as line 13!\n",
    "def a():\n",
    "    return f'A!\\n'\n",
    "# a = with_lines(a) \n",
    "\n",
    "\n",
    "@with_lines   # this is precisely the same as line 19\n",
    "def b():\n",
    "    return f'B!\\n'\n",
    "# b = with_lines(b)\n",
    "\n",
    "@with_lines\n",
    "def myadd(first, second):\n",
    "    return f'{first} + {second} = {first+second}\\n'\n",
    "\n",
    "print(a())\n",
    "print(b())\n",
    "print(myadd(10, 3))   # when I call myadd here, I'm not really calling our original myadd, but wrapper"
   ]
  },
  {
   "cell_type": "markdown",
   "metadata": {},
   "source": [
    "# Exercise: `timefunc`\n",
    "\n",
    "1. Write two functions, `slow_add` and `slow_mul`, each of which takes two arguments. They return the sum and product of those two arguments, respectively. You should add a `time.sleep` in there, so that they'll be a little slow. You can even use `time.sleep(random.randint(0, 3))` for 0-3 seconds of sleeping.\n",
    "2. Write a decorator, `timefunc`, which will run the function as per usual -- but will keep track of how long the function took to run, by calling `time.time()` before and after doing so.\n",
    "3. The timing of the function should be written into a file, `timing.txt`, in the current directory. Each line of `timing.txt` should have the called function's name (which you can get via `__name__` on the function object) and how long it took to run.\n",
    "\n",
    "```python\n",
    "print(slow_add(3, 5))\n",
    "print(slow_mul(10, 2))\n",
    "print(slow_add(7, 8))\n",
    "print(slow_mul(2, 4))\n",
    "```\n",
    "\n",
    "After running the above code, `timing.txt` should have four lines, each line starting with the function name."
   ]
  },
  {
   "cell_type": "code",
   "execution_count": 13,
   "metadata": {},
   "outputs": [
    {
     "name": "stdout",
     "output_type": "stream",
     "text": [
      "8\n",
      "20\n",
      "15\n",
      "8\n"
     ]
    }
   ],
   "source": [
    "import time\n",
    "import random\n",
    "\n",
    "def timefunc(func):          # this is the decorator; it's called once per function, which is the argument\n",
    "    def wrapper(*args):      # this replaces the decorated function; it's called once per invocation\n",
    "        start_time = time.time()\n",
    "        value = func(*args)\n",
    "        total_time = time.time() - start_time\n",
    "        \n",
    "        with open('timing.txt', 'a') as outfile:                # open the file for appending\n",
    "            outfile.write(f'{func.__name__}\\t{total_time}\\n')   # add one line: function name + total_time\n",
    "        \n",
    "        return value\n",
    "    return wrapper           # the outer function returns the inner function when it's called\n",
    "\n",
    "@timefunc\n",
    "def slow_add(first, second):\n",
    "    time.sleep(random.randint(0, 3))\n",
    "    return first + second\n",
    "\n",
    "@timefunc\n",
    "def slow_mul(first, second):\n",
    "    time.sleep(random.randint(0, 3))\n",
    "    return first * second\n",
    "\n",
    "print(slow_add(3, 5))\n",
    "print(slow_mul(10, 2))\n",
    "print(slow_add(7, 8))\n",
    "print(slow_mul(2, 4))"
   ]
  },
  {
   "cell_type": "code",
   "execution_count": 14,
   "metadata": {},
   "outputs": [
    {
     "name": "stdout",
     "output_type": "stream",
     "text": [
      "slow_add\t1.0043787956237793\r\n",
      "slow_mul\t3.004262924194336\r\n",
      "slow_add\t2.000728130340576\r\n",
      "slow_mul\t1.0007259845733643\r\n"
     ]
    }
   ],
   "source": [
    "# in Jupyter, ! means: run a command in the host OS\n",
    "# in Unix/Mac, cat means: show me the contents of a file\n",
    "\n",
    "!cat timing.txt"
   ]
  },
  {
   "cell_type": "markdown",
   "metadata": {},
   "source": [
    "What if I have a function that doesn't have any state, and which always returns the same value, given the same arguments? If that function takes a long time to run, then maybe it would be helpful for me to do some caching.  That is: I'll check to see what arguments I get, and if I've already seen those arguments in the past, then I'll just return the cached value.\n",
    "\n",
    "The first time that I see a set of arguments, I'll really run the function, and then cache whatever I get back.\n",
    "\n",
    "This is known as \"memoization.\"  It has been around since about the 1950s."
   ]
  },
  {
   "cell_type": "markdown",
   "metadata": {},
   "source": [
    "# Exercise: Memoization\n",
    "\n",
    "1. Let's reuse our `slow_add` and `slow_mul` functions.\n",
    "2. Instead of the `timing` decorator, let's use a `memoize` decorator. \n",
    "3. `memoize` will look at the arguments that a function gets:\n",
    "    - If we've seen these arguments before, then we'll return the previous calls' value.\n",
    "    - If this is the first time we've seen these arguments, then we call the function, and then cache the value we got back.\n",
    "4. Print some debugging text indicating whether this is the first time or a non-first time the function is called.    "
   ]
  },
  {
   "cell_type": "code",
   "execution_count": 17,
   "metadata": {},
   "outputs": [
    {
     "name": "stdout",
     "output_type": "stream",
     "text": [
      "Now really running slow_add with 3 and 5\n",
      "8\n",
      "Now really running slow_mul with 10 and 2\n",
      "20\n",
      "Now really running slow_add with 3 and 5\n",
      "8\n",
      "Now really running slow_mul with 10 and 2\n",
      "20\n"
     ]
    }
   ],
   "source": [
    "def memoize(func):      # decorator; called once on the decorated function\n",
    "    cache = {}\n",
    "    def wrapper(*args): # inner function; called each time we invoke the decorated function\n",
    "        if args not in cache:\n",
    "            print('Caching result for args {args}')\n",
    "            cache[args] = func(*args)\n",
    "            \n",
    "        # we can now always return the value\n",
    "        return cache[args]\n",
    "\n",
    "    return wrapper\n",
    "\n",
    "@memoize\n",
    "def slow_add(first, second):\n",
    "    print(f'Now really running slow_add with {first} and {second}')\n",
    "    time.sleep(random.randint(0, 3))\n",
    "    return first + second\n",
    "\n",
    "@memoize\n",
    "def slow_mul(first, second):\n",
    "    print(f'Now really running slow_mul with {first} and {second}')\n",
    "    time.sleep(random.randint(0, 3))\n",
    "    return first * second\n",
    "\n",
    "print(slow_add(3, 5))\n",
    "print(slow_mul(3, 2))\n",
    "print(slow_add(3, 5))\n",
    "print(slow_mul(10, 2))\n"
   ]
  },
  {
   "cell_type": "code",
   "execution_count": null,
   "metadata": {},
   "outputs": [],
   "source": []
  }
 ],
 "metadata": {
  "kernelspec": {
   "display_name": "Python 3 (ipykernel)",
   "language": "python",
   "name": "python3"
  },
  "language_info": {
   "codemirror_mode": {
    "name": "ipython",
    "version": 3
   },
   "file_extension": ".py",
   "mimetype": "text/x-python",
   "name": "python",
   "nbconvert_exporter": "python",
   "pygments_lexer": "ipython3",
   "version": "3.11.2"
  }
 },
 "nbformat": 4,
 "nbformat_minor": 4
}
