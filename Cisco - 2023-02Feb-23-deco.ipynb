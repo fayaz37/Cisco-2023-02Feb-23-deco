{
 "cells": [
  {
   "cell_type": "markdown",
   "metadata": {},
   "source": [
    "# Agenda\n",
    "\n",
    "1. What are decorators?\n",
    "2. Decorating functions\n",
    "3. Enclosing functions (and taking advantage of them with decorators)"
   ]
  },
  {
   "cell_type": "markdown",
   "metadata": {},
   "source": [
    "Decorators in Python ≠ Decorators in design patterns"
   ]
  },
  {
   "cell_type": "markdown",
   "metadata": {},
   "source": [
    "# Things to remember about functions in Python\n",
    "\n",
    "1. When we use `def` to define a function, we are actually doing two things:\n",
    "    - Creating a function object\n",
    "    - Assigning that function object to a variable\n",
    "2. Inside of a function, assigning to a variable creates a local variable\n",
    "3. Functions are objects, which we can return (like any other object) from a function."
   ]
  },
  {
   "cell_type": "code",
   "execution_count": 1,
   "metadata": {},
   "outputs": [
    {
     "name": "stdout",
     "output_type": "stream",
     "text": [
      "A!\n",
      "\n",
      "B!\n",
      "\n"
     ]
    }
   ],
   "source": [
    "# let's say that we have two functions\n",
    "\n",
    "def a():\n",
    "    return f'A!\\n'\n",
    "\n",
    "def b():\n",
    "    return f'B!\\n'\n",
    "\n",
    "print(a())\n",
    "print(b())"
   ]
  },
  {
   "cell_type": "code",
   "execution_count": 2,
   "metadata": {},
   "outputs": [
    {
     "name": "stdout",
     "output_type": "stream",
     "text": [
      "----------\n",
      "A!\n",
      "----------\n",
      "\n",
      "----------\n",
      "B!\n",
      "----------\n",
      "\n"
     ]
    }
   ],
   "source": [
    "# our company has now decided, as a matter of policy, that anything we print\n",
    "# in our programs must have dashed lines above and below it\n",
    "\n",
    "lines = '-' * 10 + '\\n'\n",
    "\n",
    "def a():\n",
    "    return f'{lines}A!\\n{lines}'\n",
    "\n",
    "def b():\n",
    "    return f'{lines}B!\\n{lines}'\n",
    "\n",
    "print(a())\n",
    "print(b())"
   ]
  },
  {
   "cell_type": "code",
   "execution_count": 3,
   "metadata": {},
   "outputs": [
    {
     "name": "stdout",
     "output_type": "stream",
     "text": [
      "----------\n",
      "A!\n",
      "----------\n",
      "\n",
      "----------\n",
      "B!\n",
      "----------\n",
      "\n"
     ]
    }
   ],
   "source": [
    "# this violates the DRY rule -- don't repeat yourself\n",
    "\n",
    "# how can we DRY up our code, and not repeat ourselves?\n",
    "\n",
    "lines = '-' * 10 + '\\n'\n",
    "\n",
    "# this function will take another function as an argument, and put its output in lines\n",
    "def with_lines(func):    \n",
    "    return f'{lines}{func()}{lines}'\n",
    "\n",
    "\n",
    "def a():\n",
    "    return f'A!\\n'\n",
    "\n",
    "def b():\n",
    "    return f'B!\\n'\n",
    "\n",
    "print(with_lines(a))  # I'm not running a or b directly.. with_lines will run them for me\n",
    "print(with_lines(b))"
   ]
  },
  {
   "cell_type": "code",
   "execution_count": 4,
   "metadata": {},
   "outputs": [
    {
     "name": "stdout",
     "output_type": "stream",
     "text": [
      "----------\n",
      "A!\n",
      "----------\n",
      "\n",
      "----------\n",
      "B!\n",
      "----------\n",
      "\n"
     ]
    }
   ],
   "source": [
    "# the boss is unhappy that we changed the API\n",
    "# we need to have lines... but we need to have them without changing how we call a and b\n",
    "\n",
    "# we're going to solve this problem by having with_lines return a *function*, \n",
    "# rather than a string\n",
    "\n",
    "lines = '-' * 10 + '\\n'\n",
    "\n",
    "def with_lines(func):    \n",
    "    def wrapper():    # define an inner function\n",
    "        return f'{lines}{func()}{lines}'\n",
    "    return wrapper    # return the inner function\n",
    "\n",
    "def a():\n",
    "    return f'A!\\n'\n",
    "a_with_lines = with_lines(a)\n",
    "\n",
    "\n",
    "def b():\n",
    "    return f'B!\\n'\n",
    "b_with_lines = with_lines(b)\n",
    "\n",
    "print(a_with_lines())\n",
    "print(b_with_lines())"
   ]
  },
  {
   "cell_type": "code",
   "execution_count": null,
   "metadata": {},
   "outputs": [],
   "source": [
    "# let's now make sure that we have the original API working\n",
    "\n",
    "lines = '-' * 10 + '\\n'\n",
    "\n",
    "def with_lines(func): # func will hold onto our reference to our original function   \n",
    "    def wrapper():    # define an inner function\n",
    "        return f'{lines}{func()}{lines}'\n",
    "    return wrapper    # return the inner function\n",
    "\n",
    "def a():\n",
    "    return f'A!\\n'\n",
    "a = with_lines(a)  # we're redefining a so that it's now the result of calling with_lines(a)\n",
    "\n",
    "\n",
    "def b():\n",
    "    return f'B!\\n'\n",
    "b = with_lines(b)\n",
    "\n",
    "print(a_with_lines())\n",
    "print(b_with_lines())"
   ]
  }
 ],
 "metadata": {
  "kernelspec": {
   "display_name": "Python 3 (ipykernel)",
   "language": "python",
   "name": "python3"
  },
  "language_info": {
   "codemirror_mode": {
    "name": "ipython",
    "version": 3
   },
   "file_extension": ".py",
   "mimetype": "text/x-python",
   "name": "python",
   "nbconvert_exporter": "python",
   "pygments_lexer": "ipython3",
   "version": "3.11.2"
  }
 },
 "nbformat": 4,
 "nbformat_minor": 4
}
