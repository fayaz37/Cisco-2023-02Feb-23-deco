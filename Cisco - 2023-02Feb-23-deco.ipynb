{
 "cells": [
  {
   "cell_type": "markdown",
   "metadata": {},
   "source": [
    "# Agenda\n",
    "\n",
    "1. What are decorators?\n",
    "2. Decorating functions\n",
    "3. Enclosing functions (and taking advantage of them with decorators)"
   ]
  },
  {
   "cell_type": "markdown",
   "metadata": {},
   "source": [
    "Decorators in Python ≠ Decorators in design patterns"
   ]
  },
  {
   "cell_type": "markdown",
   "metadata": {},
   "source": [
    "# Things to remember about functions in Python\n",
    "\n",
    "1. When we use `def` to define a function, we are actually doing two things:\n",
    "    - Creating a function object\n",
    "    - Assigning that function object to a variable\n",
    "2. Inside of a function, assigning to a variable creates a local variable\n",
    "3. Functions are objects, which we can return (like any other object) from a function."
   ]
  }
 ],
 "metadata": {
  "kernelspec": {
   "display_name": "Python 3 (ipykernel)",
   "language": "python",
   "name": "python3"
  },
  "language_info": {
   "codemirror_mode": {
    "name": "ipython",
    "version": 3
   },
   "file_extension": ".py",
   "mimetype": "text/x-python",
   "name": "python",
   "nbconvert_exporter": "python",
   "pygments_lexer": "ipython3",
   "version": "3.11.2"
  }
 },
 "nbformat": 4,
 "nbformat_minor": 4
}
